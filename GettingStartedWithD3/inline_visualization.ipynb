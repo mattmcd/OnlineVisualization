{
 "cells": [
  {
   "cell_type": "code",
   "execution_count": 1,
   "metadata": {
    "collapsed": true
   },
   "outputs": [],
   "source": [
    "import numpy as np\n",
    "import pandas as pd\n",
    "from IPython.display import Javascript, HTML"
   ]
  },
  {
   "cell_type": "code",
   "execution_count": 5,
   "metadata": {},
   "outputs": [
    {
     "data": {
      "application/javascript": [
       "// TODO: see how to serve local files - could try using a separate server?\n",
       "require.config({\n",
       "    baseUrl: '/files',\n",
       "  paths: {\n",
       "      d3: 'lib/d3',\n",
       "      bp_vis: 'src/bus_perf'\n",
       "  }\n",
       "});"
      ],
      "text/plain": [
       "<IPython.core.display.Javascript object>"
      ]
     },
     "metadata": {},
     "output_type": "display_data"
    }
   ],
   "source": [
    "%%javascript\n",
    "require.config({\n",
    "    baseUrl: '/files',\n",
    "    paths: {\n",
    "      d3: 'lib/d3',\n",
    "      bp_vis: 'src/bus_perf'\n",
    "  }\n",
    "});"
   ]
  },
  {
   "cell_type": "code",
   "execution_count": null,
   "metadata": {
    "collapsed": true
   },
   "outputs": [],
   "source": []
  },
  {
   "cell_type": "code",
   "execution_count": 33,
   "metadata": {},
   "outputs": [
    {
     "data": {
      "application/javascript": [
       "require(['d3', 'bp_vis'],\n",
       "    function (d3, bp_vis) {\n",
       "        var data_path = \"data/bus_perf.json\";\n",
       "        var chart_id = '#chart1'\n",
       "        $(chart_id).remove();\n",
       "        element.append(\"<div id='\" + chart_id.slice(1,) + \"'></div>\");\n",
       "        $(chart_id).width(\"800px\");\n",
       "        $(chart_id).height(\"300px\");        \n",
       "\n",
       "        d3.json(data_path, function (x) {bp_vis.draw(x, chart_id)});\n",
       "});"
      ],
      "text/plain": [
       "<IPython.core.display.Javascript object>"
      ]
     },
     "metadata": {},
     "output_type": "display_data"
    }
   ],
   "source": [
    "%%javascript\n",
    "require(['d3', 'bp_vis'],\n",
    "    function (d3, bp_vis) {\n",
    "        var data_path = \"data/bus_perf.json\";\n",
    "        var chart_id = '#chart1'\n",
    "        $(chart_id).remove();\n",
    "        element.append(\"<div id='\" + chart_id.slice(1,) + \"'></div>\");\n",
    "        $(chart_id).width(\"800px\");\n",
    "        $(chart_id).height(\"300px\");        \n",
    "\n",
    "        d3.json(data_path, function (x) {bp_vis.draw(x, chart_id)});\n",
    "});"
   ]
  },
  {
   "cell_type": "code",
   "execution_count": 32,
   "metadata": {},
   "outputs": [
    {
     "data": {
      "application/javascript": [
       "require(['d3', 'bp_vis'],\n",
       "    function (d3, bp_vis) {\n",
       "        var data_path = \"data/bus_perf.json\";\n",
       "        var chart_id = '#chart2'\n",
       "        $(chart_id).remove();\n",
       "        console.log(chart_id.slice(-1))\n",
       "        element.append(\"<div id='\" + chart_id.slice(1,) + \"'></div>\");\n",
       "        $(chart_id).width(\"800px\")\n",
       "        $(chart_id).height(\"300px\");    \n",
       "        d3.json(data_path, function (x) {bp_vis.draw(x, chart_id)});\n",
       "});"
      ],
      "text/plain": [
       "<IPython.core.display.Javascript object>"
      ]
     },
     "metadata": {},
     "output_type": "display_data"
    }
   ],
   "source": [
    "%%javascript\n",
    "require(['d3', 'bp_vis'],\n",
    "    function (d3, bp_vis) {\n",
    "        var data_path = \"data/bus_perf.json\";\n",
    "        var chart_id = '#chart2'\n",
    "        $(chart_id).remove();\n",
    "        console.log(chart_id.slice(-1))\n",
    "        element.append(\"<div id='\" + chart_id.slice(1,) + \"'></div>\");\n",
    "        $(chart_id).width(\"800px\")\n",
    "        $(chart_id).height(\"300px\");    \n",
    "        d3.json(data_path, function (x) {bp_vis.draw(x, chart_id)});\n",
    "});"
   ]
  },
  {
   "cell_type": "code",
   "execution_count": null,
   "metadata": {
    "collapsed": true
   },
   "outputs": [],
   "source": []
  }
 ],
 "metadata": {
  "kernelspec": {
   "display_name": "Python 2",
   "language": "python",
   "name": "python2"
  },
  "language_info": {
   "codemirror_mode": {
    "name": "ipython",
    "version": 2
   },
   "file_extension": ".py",
   "mimetype": "text/x-python",
   "name": "python",
   "nbconvert_exporter": "python",
   "pygments_lexer": "ipython2",
   "version": "2.7.14"
  }
 },
 "nbformat": 4,
 "nbformat_minor": 2
}
